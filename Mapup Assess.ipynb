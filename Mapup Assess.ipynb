{
 "cells": [
  {
   "cell_type": "code",
   "execution_count": 6,
   "id": "44cf859d-9035-4a95-a152-0ed3d506669c",
   "metadata": {
    "tags": []
   },
   "outputs": [],
   "source": [
    "import pandas as pd"
   ]
  },
  {
   "cell_type": "code",
   "execution_count": 7,
   "id": "1882dba7-c221-492f-8f8c-4a4f8de9c72f",
   "metadata": {
    "tags": []
   },
   "outputs": [],
   "source": [
    "#gps = pd.read_parquet(\"raw_data.parquet\")"
   ]
  },
  {
   "cell_type": "code",
   "execution_count": 8,
   "id": "3bc4368f-f456-46fd-bda2-924322ed5492",
   "metadata": {
    "tags": []
   },
   "outputs": [],
   "source": [
    "#gps.head()"
   ]
  },
  {
   "cell_type": "code",
   "execution_count": 13,
   "id": "1f2c863a-1e18-4731-8caf-d72f7eb173c6",
   "metadata": {
    "tags": []
   },
   "outputs": [],
   "source": [
    "def main():\n",
    "    # Default paths (modify these as needed)\n",
    "    to_process_path = \"C:/Users/TusharPatil/jupyter/Assessment/raw_data.parquet\"\n",
    "    output_dir_path = \"C:/Users/TusharPatil/jupyter/Assessment/output/process1\"\n",
    "\n",
    "    # Read GPS data from Parquet file\n",
    "    gps_data = pd.read_parquet(to_process_path)\n",
    "\n",
    "    # Group data by unit\n",
    "    grouped_data = gps_data.groupby('unit')\n",
    "\n",
    "    # Create the output directory if it doesn't exist\n",
    "    os.makedirs(output_dir_path, exist_ok=True)\n",
    "\n",
    "    # Process each unit\n",
    "    for unit, data in grouped_data:\n",
    "        trips = identify_trips(data)\n",
    "        save_trips_to_csv(trips, unit, output_dir_path)\n",
    "\n",
    "if __name__ == \"__main__\":\n",
    "    main()\n"
   ]
  },
  {
   "cell_type": "code",
   "execution_count": null,
   "id": "b161edc9-012c-4511-a525-6ebd781e18a5",
   "metadata": {},
   "outputs": [],
   "source": []
  }
 ],
 "metadata": {
  "kernelspec": {
   "display_name": "Python 3 (ipykernel)",
   "language": "python",
   "name": "python3"
  },
  "language_info": {
   "codemirror_mode": {
    "name": "ipython",
    "version": 3
   },
   "file_extension": ".py",
   "mimetype": "text/x-python",
   "name": "python",
   "nbconvert_exporter": "python",
   "pygments_lexer": "ipython3",
   "version": "3.11.5"
  }
 },
 "nbformat": 4,
 "nbformat_minor": 5
}
